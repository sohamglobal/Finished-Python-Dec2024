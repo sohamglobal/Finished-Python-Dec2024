{
 "cells": [
  {
   "cell_type": "code",
   "execution_count": 2,
   "metadata": {
    "colab": {
     "base_uri": "https://localhost:8080/"
    },
    "executionInfo": {
     "elapsed": 6242,
     "status": "ok",
     "timestamp": 1737381854366,
     "user": {
      "displayName": "Ethan Hunt",
      "userId": "16123156775725607320"
     },
     "user_tz": -330
    },
    "id": "2IU9u1MYBt8O",
    "outputId": "54e6880c-a75a-4f1f-a27f-1fd04a76df77"
   },
   "outputs": [
    {
     "name": "stdout",
     "output_type": "stream",
     "text": [
      "Collecting python-dotenv\n",
      "  Downloading python_dotenv-1.0.1-py3-none-any.whl.metadata (23 kB)\n",
      "Downloading python_dotenv-1.0.1-py3-none-any.whl (19 kB)\n",
      "Installing collected packages: python-dotenv\n",
      "Successfully installed python-dotenv-1.0.1\n"
     ]
    }
   ],
   "source": [
    "pip install python-dotenv"
   ]
  },
  {
   "cell_type": "code",
   "execution_count": 13,
   "metadata": {
    "executionInfo": {
     "elapsed": 379,
     "status": "ok",
     "timestamp": 1737382720237,
     "user": {
      "displayName": "Ethan Hunt",
      "userId": "16123156775725607320"
     },
     "user_tz": -330
    },
    "id": "TO6GWmSQB0mx"
   },
   "outputs": [],
   "source": [
    "from openai import OpenAI\n",
    "\n",
    "client = OpenAI(\n",
    "api_key=\"sk-proj-fI_d5l7WOTanVCdeUAsY1GOETHANIUYqaY3uYBGDP9eOg0ivnjyXaIlsgORVZ1dlVylEa8dT3BlbkFJmrfSPnBvUm2PVoQmTTprUnuu7xJoVC48G5s5PLndOCdh-7FqMkugtUcA9KMjM63qBT0yMrD9YA\",\n",
    ")\n",
    "\n",
    "def chat_gpt(prompt):\n",
    "  response = client.chat.completions.create(\n",
    "      model=\"gpt-4\",\n",
    "      messages=[{\"role\": \"user\", \"content\": prompt}]\n",
    "      )\n",
    "  return response.choices[0].message.content.strip()\n"
   ]
  },
  {
   "cell_type": "code",
   "execution_count": 23,
   "metadata": {
    "colab": {
     "base_uri": "https://localhost:8080/"
    },
    "executionInfo": {
     "elapsed": 83174,
     "status": "ok",
     "timestamp": 1737383434048,
     "user": {
      "displayName": "Ethan Hunt",
      "userId": "16123156775725607320"
     },
     "user_tz": -330
    },
    "id": "y5p3Qb1jCgX5",
    "outputId": "ea4b45d2-099e-4146-811d-dcf54ae014d5"
   },
   "outputs": [
    {
     "name": "stdout",
     "output_type": "stream",
     "text": [
      "Enter a prompt : give me a list of main automobile manufacturing companies operating in india.\n",
      "1. Tata Motors\n",
      "2. Maruti Suzuki India\n",
      "3. Hyundai Motor India\n",
      "4. Mahindra & Mahindra\n",
      "5. Honda Cars India\n",
      "6. Ashok Leyland\n",
      "7. Ford India\n",
      "8. Toyota Kirloskar Motor\n",
      "9. Audi India\n",
      "10. BMW India\n",
      "11. Mercedes-Benz India\n",
      "12. Skoda Auto India\n",
      "13. Renault India\n",
      "14. Nissan Motor India\n",
      "15. Volkswagen India\n",
      "16. Volvo Auto India\n",
      "17. Fiat India\n",
      "18. MG Motor India\n",
      "19. Kia Motors India\n",
      "20. Jeep India\n",
      "21. Isuzu Motors India\n",
      "22. Force Motors\n",
      "23. Hindustan Motors\n",
      "24. SML Isuzu\n",
      "25. Daimler India Commercial Vehicles.\n"
     ]
    }
   ],
   "source": [
    "prompt=input('Enter a prompt : ')\n",
    "response=chat_gpt(prompt)\n",
    "print(response)"
   ]
  },
  {
   "cell_type": "code",
   "execution_count": null,
   "metadata": {
    "id": "OworWy6hIF9R"
   },
   "outputs": [],
   "source": []
  }
 ],
 "metadata": {
  "colab": {
   "authorship_tag": "ABX9TyMsIMjtqZWCHRAjkLP6GNKk",
   "provenance": []
  },
  "kernelspec": {
   "display_name": "Python 3",
   "name": "python3"
  },
  "language_info": {
   "name": "python"
  }
 },
 "nbformat": 4,
 "nbformat_minor": 0
}
